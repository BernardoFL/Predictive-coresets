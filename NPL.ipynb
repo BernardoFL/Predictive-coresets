{
 "cells": [
  {
   "cell_type": "code",
   "execution_count": 11,
   "metadata": {},
   "outputs": [],
   "source": [
    "import numpy as np\n",
    "import matplotlib.pyplot as plt\n",
    "import pred_coreset as pc\n",
    "import pymc as pm\n",
    "import torch\n",
    "import ot\n",
    "import Discrepancy as dc\n",
    "from scipy.special import expit"
   ]
  },
  {
   "cell_type": "markdown",
   "metadata": {},
   "source": [
    "Generate data from logistic regression"
   ]
  },
  {
   "cell_type": "code",
   "execution_count": 83,
   "metadata": {},
   "outputs": [],
   "source": [
    "np.random.seed(1)\n",
    "\n",
    "\n",
    "#10,000 datapoints, 10 covariates\n",
    "N = 10000\n",
    "P = 2\n",
    "\n",
    "x = np.random.normal(0, 5, N)\n",
    "# they used the same parameters: 3\n",
    "th = 0.5\n",
    "# Compute logistic scores and sample bernoulli\n",
    "ps = expit(1 + x*th)\n",
    "y =(np.random.rand(N) <= ps).astype(int)\n",
    "#y[y==0] = -1"
   ]
  },
  {
   "cell_type": "markdown",
   "metadata": {},
   "source": [
    "Get the coreset with out method"
   ]
  },
  {
   "cell_type": "code",
   "execution_count": 3,
   "metadata": {},
   "outputs": [
    {
     "ename": "NameError",
     "evalue": "name 'torch' is not defined",
     "output_type": "error",
     "traceback": [
      "\u001b[0;31m---------------------------------------------------------------------------\u001b[0m",
      "\u001b[0;31mNameError\u001b[0m                                 Traceback (most recent call last)",
      "Cell \u001b[0;32mIn[3], line 2\u001b[0m\n\u001b[1;32m      1\u001b[0m \u001b[38;5;66;03m## Create sampler\u001b[39;00m\n\u001b[0;32m----> 2\u001b[0m core_x \u001b[38;5;241m=\u001b[39m  \u001b[43mtorch\u001b[49m\u001b[38;5;241m.\u001b[39mfrom_numpy(x[torch\u001b[38;5;241m.\u001b[39mrandint(\u001b[38;5;241m0\u001b[39m, \u001b[38;5;28mlen\u001b[39m(x), (\u001b[38;5;241m50\u001b[39m,))])\n\u001b[1;32m      4\u001b[0m ws \u001b[38;5;241m=\u001b[39m pc\u001b[38;5;241m.\u001b[39mget_coreset(torch\u001b[38;5;241m.\u001b[39mfrom_numpy(x), \u001b[38;5;241m500\u001b[39m, core_x, \u001b[38;5;241m1\u001b[39m, mixt\u001b[38;5;241m.\u001b[39mmixt, \u001b[38;5;241m1\u001b[39m, parallel \u001b[38;5;241m=\u001b[39m \u001b[38;5;28;01mTrue\u001b[39;00m)\n",
      "\u001b[0;31mNameError\u001b[0m: name 'torch' is not defined"
     ]
    }
   ],
   "source": [
    "## Create discrepancy\n",
    "\n",
    "ot_2d = dc.Discrepancy(ot.dist, p=1)\n",
    "\n",
    "core_x =  torch.from_numpy(x[torch.randint(0, len(x), (50,))])\n",
    "\n",
    "ws = pc.get_coreset(torch.from_numpy(x), 500, core_x, 1, mixt.mixt, 1, parallel = True)"
   ]
  },
  {
   "cell_type": "markdown",
   "metadata": {},
   "source": [
    "Fit model with full data"
   ]
  },
  {
   "cell_type": "code",
   "execution_count": 84,
   "metadata": {},
   "outputs": [],
   "source": [
    "with pm.Model() as logistic_model:\n",
    "    # random variables for coefficients with\n",
    "    # uninformative priors for each parameter\n",
    "\n",
    "    intercept = pm.Normal('intercept', 0, 1)\n",
    "    beta = pm.Normal('beta', 0, 1)\n",
    "\n",
    "    # Transform random variables into vector of probabilities p(y_i=1)\n",
    "    # according to logistic regression model specification.\n",
    "    likelihood = pm.invlogit(intercept + beta * x)\n",
    "\n",
    "    # Bernoulli random vector with probability of success\n",
    "    # given by sigmoid function and actual data as observed\n",
    "    pm.Bernoulli(name='logit', p=likelihood, observed=y)"
   ]
  },
  {
   "cell_type": "code",
   "execution_count": 85,
   "metadata": {},
   "outputs": [
    {
     "data": {
      "text/html": [
       "\n",
       "    <div>\n",
       "        <style>\n",
       "            /* Turns off some styling */\n",
       "            progress {\n",
       "                /* gets rid of default border in Firefox and Opera. */\n",
       "                border: none;\n",
       "                /* Needs to be in here for Safari polyfill so background images work as expected. */\n",
       "                background-size: auto;\n",
       "            }\n",
       "            .progress-bar-interrupted, .progress-bar-interrupted::-webkit-progress-bar {\n",
       "                background: #F44336;\n",
       "            }\n",
       "        </style>\n",
       "      <progress value='10000' class='' max='10000' style='width:300px; height:20px; vertical-align: middle;'></progress>\n",
       "      100.00% [10000/10000 00:03<00:00 Average Loss = 4,032.9]\n",
       "    </div>\n",
       "    "
      ],
      "text/plain": [
       "<IPython.core.display.HTML object>"
      ]
     },
     "metadata": {},
     "output_type": "display_data"
    },
    {
     "name": "stderr",
     "output_type": "stream",
     "text": [
      "Finished [100%]: Average Loss = 4,032.1\n"
     ]
    }
   ],
   "source": [
    "with logistic_model:\n",
    "    full_fit = pm.fit()"
   ]
  },
  {
   "cell_type": "code",
   "execution_count": 86,
   "metadata": {},
   "outputs": [
    {
     "data": {
      "image/png": "[encoded data removed]",
      "text/plain": [
       "<Figure size 640x480 with 1 Axes>"
      ]
     },
     "metadata": {},
     "output_type": "display_data"
    }
   ],
   "source": [
    "beta = full_fit.sample(1000).posterior[\"beta\"].values.mean()\n",
    "intercept = full_fit.sample(1000).posterior[\"intercept\"].values.mean()\n",
    "\n",
    "logit_x = np.linspace(x.min(), x.max(), 200) \n",
    "\n",
    "plt.scatter(x, y)\n",
    "plt.plot(logit_x, expit(intercept + beta * logit_x))\n",
    "plt.show()\n"
   ]
  },
  {
   "cell_type": "code",
   "execution_count": 78,
   "metadata": {},
   "outputs": [
    {
     "data": {
      "text/plain": [
       "0.5050113839954216"
      ]
     },
     "execution_count": 78,
     "metadata": {},
     "output_type": "execute_result"
    }
   ],
   "source": [
    "full_fit.sample(1000).posterior[\"beta\"].values.mean()"
   ]
  }
 ],
 "metadata": {
  "kernelspec": {
   "display_name": "Python 3",
   "language": "python",
   "name": "python3"
  },
  "language_info": {
   "codemirror_mode": {
    "name": "ipython",
    "version": 3
   },
   "file_extension": ".py",
   "mimetype": "text/x-python",
   "name": "python",
   "nbconvert_exporter": "python",
   "pygments_lexer": "ipython3",
   "version": "3.12.2"
  }
 },
 "nbformat": 4,
 "nbformat_minor": 2
}
